{
 "cells": [
  {
   "cell_type": "code",
   "execution_count": 1,
   "id": "3d1e3888",
   "metadata": {
    "scrolled": true
   },
   "outputs": [
    {
     "data": {
      "text/html": [
       "<div>\n",
       "<style scoped>\n",
       "    .dataframe tbody tr th:only-of-type {\n",
       "        vertical-align: middle;\n",
       "    }\n",
       "\n",
       "    .dataframe tbody tr th {\n",
       "        vertical-align: top;\n",
       "    }\n",
       "\n",
       "    .dataframe thead th {\n",
       "        text-align: right;\n",
       "    }\n",
       "</style>\n",
       "<table border=\"1\" class=\"dataframe\">\n",
       "  <thead>\n",
       "    <tr style=\"text-align: right;\">\n",
       "      <th></th>\n",
       "      <th>Unnamed: 0</th>\n",
       "      <th>id</th>\n",
       "      <th>headline</th>\n",
       "      <th>written_by</th>\n",
       "      <th>news</th>\n",
       "      <th>label</th>\n",
       "    </tr>\n",
       "  </thead>\n",
       "  <tbody>\n",
       "    <tr>\n",
       "      <th>0</th>\n",
       "      <td>0</td>\n",
       "      <td>9653</td>\n",
       "      <td>Ethics Questions Dogged Agriculture Nominee as...</td>\n",
       "      <td>Eric Lipton and Steve Eder</td>\n",
       "      <td>WASHINGTON  —   In Sonny Perdue’s telling, Geo...</td>\n",
       "      <td>0</td>\n",
       "    </tr>\n",
       "    <tr>\n",
       "      <th>1</th>\n",
       "      <td>1</td>\n",
       "      <td>10041</td>\n",
       "      <td>U.S. Must Dig Deep to Stop Argentina’s Lionel ...</td>\n",
       "      <td>David Waldstein</td>\n",
       "      <td>HOUSTON  —   Venezuela had a plan. It was a ta...</td>\n",
       "      <td>0</td>\n",
       "    </tr>\n",
       "    <tr>\n",
       "      <th>2</th>\n",
       "      <td>2</td>\n",
       "      <td>19113</td>\n",
       "      <td>Cotton to House: ’Do Not Walk the Plank and Vo...</td>\n",
       "      <td>Pam Key</td>\n",
       "      <td>Sunday on ABC’s “This Week,” while discussing ...</td>\n",
       "      <td>0</td>\n",
       "    </tr>\n",
       "    <tr>\n",
       "      <th>3</th>\n",
       "      <td>3</td>\n",
       "      <td>6868</td>\n",
       "      <td>Paul LePage, Besieged Maine Governor, Sends Co...</td>\n",
       "      <td>Jess Bidgood</td>\n",
       "      <td>AUGUSTA, Me.  —   The beleaguered Republican g...</td>\n",
       "      <td>0</td>\n",
       "    </tr>\n",
       "    <tr>\n",
       "      <th>4</th>\n",
       "      <td>4</td>\n",
       "      <td>7596</td>\n",
       "      <td>A Digital 9/11 If Trump Wins</td>\n",
       "      <td>Finian Cunningham</td>\n",
       "      <td>Finian Cunningham has written extensively on...</td>\n",
       "      <td>1</td>\n",
       "    </tr>\n",
       "    <tr>\n",
       "      <th>...</th>\n",
       "      <td>...</td>\n",
       "      <td>...</td>\n",
       "      <td>...</td>\n",
       "      <td>...</td>\n",
       "      <td>...</td>\n",
       "      <td>...</td>\n",
       "    </tr>\n",
       "    <tr>\n",
       "      <th>20795</th>\n",
       "      <td>20795</td>\n",
       "      <td>5671</td>\n",
       "      <td>NaN</td>\n",
       "      <td>NeverSurrender</td>\n",
       "      <td>No, you'll be a dog licking of the vomit of yo...</td>\n",
       "      <td>1</td>\n",
       "    </tr>\n",
       "    <tr>\n",
       "      <th>20796</th>\n",
       "      <td>20796</td>\n",
       "      <td>14831</td>\n",
       "      <td>Albert Pike and the European Migrant Crisis</td>\n",
       "      <td>Rixon Stewart</td>\n",
       "      <td>By Rixon Stewart on November 5, 2016 Rixon Ste...</td>\n",
       "      <td>1</td>\n",
       "    </tr>\n",
       "    <tr>\n",
       "      <th>20797</th>\n",
       "      <td>20797</td>\n",
       "      <td>18142</td>\n",
       "      <td>Dakota Access Caught Infiltrating Protests to ...</td>\n",
       "      <td>Eddy Lavine</td>\n",
       "      <td>posted by Eddie You know the Dakota Access Pip...</td>\n",
       "      <td>1</td>\n",
       "    </tr>\n",
       "    <tr>\n",
       "      <th>20798</th>\n",
       "      <td>20798</td>\n",
       "      <td>12139</td>\n",
       "      <td>How to Stretch the Summer Solstice - The New Y...</td>\n",
       "      <td>Alison S. Cohn</td>\n",
       "      <td>It’s officially summer, and the Society Boutiq...</td>\n",
       "      <td>0</td>\n",
       "    </tr>\n",
       "    <tr>\n",
       "      <th>20799</th>\n",
       "      <td>20799</td>\n",
       "      <td>15660</td>\n",
       "      <td>Emory University to Pay for ’100 Percent’ of U...</td>\n",
       "      <td>Tom Ciccotta</td>\n",
       "      <td>Emory University in Atlanta, Georgia, has anno...</td>\n",
       "      <td>0</td>\n",
       "    </tr>\n",
       "  </tbody>\n",
       "</table>\n",
       "<p>20800 rows × 6 columns</p>\n",
       "</div>"
      ],
      "text/plain": [
       "       Unnamed: 0     id                                           headline  \\\n",
       "0               0   9653  Ethics Questions Dogged Agriculture Nominee as...   \n",
       "1               1  10041  U.S. Must Dig Deep to Stop Argentina’s Lionel ...   \n",
       "2               2  19113  Cotton to House: ’Do Not Walk the Plank and Vo...   \n",
       "3               3   6868  Paul LePage, Besieged Maine Governor, Sends Co...   \n",
       "4               4   7596                       A Digital 9/11 If Trump Wins   \n",
       "...           ...    ...                                                ...   \n",
       "20795       20795   5671                                                NaN   \n",
       "20796       20796  14831        Albert Pike and the European Migrant Crisis   \n",
       "20797       20797  18142  Dakota Access Caught Infiltrating Protests to ...   \n",
       "20798       20798  12139  How to Stretch the Summer Solstice - The New Y...   \n",
       "20799       20799  15660  Emory University to Pay for ’100 Percent’ of U...   \n",
       "\n",
       "                       written_by  \\\n",
       "0      Eric Lipton and Steve Eder   \n",
       "1                 David Waldstein   \n",
       "2                         Pam Key   \n",
       "3                    Jess Bidgood   \n",
       "4               Finian Cunningham   \n",
       "...                           ...   \n",
       "20795              NeverSurrender   \n",
       "20796               Rixon Stewart   \n",
       "20797                 Eddy Lavine   \n",
       "20798              Alison S. Cohn   \n",
       "20799                Tom Ciccotta   \n",
       "\n",
       "                                                    news  label  \n",
       "0      WASHINGTON  —   In Sonny Perdue’s telling, Geo...      0  \n",
       "1      HOUSTON  —   Venezuela had a plan. It was a ta...      0  \n",
       "2      Sunday on ABC’s “This Week,” while discussing ...      0  \n",
       "3      AUGUSTA, Me.  —   The beleaguered Republican g...      0  \n",
       "4        Finian Cunningham has written extensively on...      1  \n",
       "...                                                  ...    ...  \n",
       "20795  No, you'll be a dog licking of the vomit of yo...      1  \n",
       "20796  By Rixon Stewart on November 5, 2016 Rixon Ste...      1  \n",
       "20797  posted by Eddie You know the Dakota Access Pip...      1  \n",
       "20798  It’s officially summer, and the Society Boutiq...      0  \n",
       "20799  Emory University in Atlanta, Georgia, has anno...      0  \n",
       "\n",
       "[20800 rows x 6 columns]"
      ]
     },
     "execution_count": 1,
     "metadata": {},
     "output_type": "execute_result"
    }
   ],
   "source": [
    "import pandas as pd\n",
    "import numpy as np\n",
    "df=pd.read_csv('train_news.csv')\n",
    "df"
   ]
  },
  {
   "cell_type": "code",
   "execution_count": 2,
   "id": "43b0996a",
   "metadata": {},
   "outputs": [
    {
     "data": {
      "text/plain": [
       "(20780, 6)"
      ]
     },
     "execution_count": 2,
     "metadata": {},
     "output_type": "execute_result"
    }
   ],
   "source": [
    "df_testing=df.tail(20)\n",
    "for i in range(20799,20779,-1):\n",
    "    df.drop([i],axis=0,inplace=True)\n",
    "df.shape"
   ]
  },
  {
   "cell_type": "code",
   "execution_count": 3,
   "id": "841252e9",
   "metadata": {},
   "outputs": [
    {
     "data": {
      "text/plain": [
       "Index(['Unnamed: 0', 'id', 'headline', 'written_by', 'news', 'label'], dtype='object')"
      ]
     },
     "execution_count": 3,
     "metadata": {},
     "output_type": "execute_result"
    }
   ],
   "source": [
    "df.columns"
   ]
  },
  {
   "cell_type": "code",
   "execution_count": 4,
   "id": "46da48b9",
   "metadata": {},
   "outputs": [
    {
     "data": {
      "text/html": [
       "<div>\n",
       "<style scoped>\n",
       "    .dataframe tbody tr th:only-of-type {\n",
       "        vertical-align: middle;\n",
       "    }\n",
       "\n",
       "    .dataframe tbody tr th {\n",
       "        vertical-align: top;\n",
       "    }\n",
       "\n",
       "    .dataframe thead th {\n",
       "        text-align: right;\n",
       "    }\n",
       "</style>\n",
       "<table border=\"1\" class=\"dataframe\">\n",
       "  <thead>\n",
       "    <tr style=\"text-align: right;\">\n",
       "      <th></th>\n",
       "      <th>news</th>\n",
       "      <th>label</th>\n",
       "    </tr>\n",
       "  </thead>\n",
       "  <tbody>\n",
       "    <tr>\n",
       "      <th>0</th>\n",
       "      <td>WASHINGTON  —   In Sonny Perdue’s telling, Geo...</td>\n",
       "      <td>0</td>\n",
       "    </tr>\n",
       "    <tr>\n",
       "      <th>1</th>\n",
       "      <td>HOUSTON  —   Venezuela had a plan. It was a ta...</td>\n",
       "      <td>0</td>\n",
       "    </tr>\n",
       "    <tr>\n",
       "      <th>2</th>\n",
       "      <td>Sunday on ABC’s “This Week,” while discussing ...</td>\n",
       "      <td>0</td>\n",
       "    </tr>\n",
       "    <tr>\n",
       "      <th>3</th>\n",
       "      <td>AUGUSTA, Me.  —   The beleaguered Republican g...</td>\n",
       "      <td>0</td>\n",
       "    </tr>\n",
       "    <tr>\n",
       "      <th>4</th>\n",
       "      <td>Finian Cunningham has written extensively on...</td>\n",
       "      <td>1</td>\n",
       "    </tr>\n",
       "    <tr>\n",
       "      <th>...</th>\n",
       "      <td>...</td>\n",
       "      <td>...</td>\n",
       "    </tr>\n",
       "    <tr>\n",
       "      <th>20775</th>\n",
       "      <td>LUMBERTON, N. C.  —   Brittany Graham had been...</td>\n",
       "      <td>0</td>\n",
       "    </tr>\n",
       "    <tr>\n",
       "      <th>20776</th>\n",
       "      <td>Italian banks struggling to stay afloat Thu Oc...</td>\n",
       "      <td>1</td>\n",
       "    </tr>\n",
       "    <tr>\n",
       "      <th>20777</th>\n",
       "      <td>Huckabee Responds To Flag-Burning Trump Hater…...</td>\n",
       "      <td>1</td>\n",
       "    </tr>\n",
       "    <tr>\n",
       "      <th>20778</th>\n",
       "      <td>Photo by -ted | CC BY 2.0 \\nWhile the recent p...</td>\n",
       "      <td>1</td>\n",
       "    </tr>\n",
       "    <tr>\n",
       "      <th>20779</th>\n",
       "      <td>By Michael Hayne Election 2016 , News , Politi...</td>\n",
       "      <td>1</td>\n",
       "    </tr>\n",
       "  </tbody>\n",
       "</table>\n",
       "<p>20780 rows × 2 columns</p>\n",
       "</div>"
      ],
      "text/plain": [
       "                                                    news  label\n",
       "0      WASHINGTON  —   In Sonny Perdue’s telling, Geo...      0\n",
       "1      HOUSTON  —   Venezuela had a plan. It was a ta...      0\n",
       "2      Sunday on ABC’s “This Week,” while discussing ...      0\n",
       "3      AUGUSTA, Me.  —   The beleaguered Republican g...      0\n",
       "4        Finian Cunningham has written extensively on...      1\n",
       "...                                                  ...    ...\n",
       "20775  LUMBERTON, N. C.  —   Brittany Graham had been...      0\n",
       "20776  Italian banks struggling to stay afloat Thu Oc...      1\n",
       "20777  Huckabee Responds To Flag-Burning Trump Hater…...      1\n",
       "20778  Photo by -ted | CC BY 2.0 \\nWhile the recent p...      1\n",
       "20779  By Michael Hayne Election 2016 , News , Politi...      1\n",
       "\n",
       "[20780 rows x 2 columns]"
      ]
     },
     "execution_count": 4,
     "metadata": {},
     "output_type": "execute_result"
    }
   ],
   "source": [
    "data=df.drop(['Unnamed: 0','id','headline','written_by'],axis=1)\n",
    "#dropping unwanted columns from the dataset\n",
    "data"
   ]
  },
  {
   "cell_type": "code",
   "execution_count": 5,
   "id": "745070ad",
   "metadata": {},
   "outputs": [
    {
     "data": {
      "text/plain": [
       "news     39\n",
       "label     0\n",
       "dtype: int64"
      ]
     },
     "execution_count": 5,
     "metadata": {},
     "output_type": "execute_result"
    }
   ],
   "source": [
    "data.isnull().sum()"
   ]
  },
  {
   "cell_type": "code",
   "execution_count": 6,
   "id": "dea1b066",
   "metadata": {},
   "outputs": [
    {
     "data": {
      "text/plain": [
       "Unnamed: 0    0\n",
       "id            0\n",
       "headline      1\n",
       "written_by    2\n",
       "news          0\n",
       "label         0\n",
       "dtype: int64"
      ]
     },
     "execution_count": 6,
     "metadata": {},
     "output_type": "execute_result"
    }
   ],
   "source": [
    "df_testing.isnull().sum()"
   ]
  },
  {
   "cell_type": "code",
   "execution_count": 7,
   "id": "9b03b30e",
   "metadata": {},
   "outputs": [
    {
     "data": {
      "text/plain": [
       "Index(['news', 'label'], dtype='object')"
      ]
     },
     "execution_count": 7,
     "metadata": {},
     "output_type": "execute_result"
    }
   ],
   "source": [
    "data.reset_index(inplace=True)\n",
    "data.drop([\"index\"],axis=1,inplace=True)\n",
    "data.columns"
   ]
  },
  {
   "cell_type": "code",
   "execution_count": 8,
   "id": "98c2ec58",
   "metadata": {},
   "outputs": [],
   "source": [
    "#defining a text processing function\n",
    "import string\n",
    "import re\n",
    "def text_processing(text):\n",
    "    text = text.lower()\n",
    "    text = re.sub('\\[.*?\\]', '', text)\n",
    "    text = re.sub(\"\\\\W\",\" \",text) \n",
    "    text = re.sub('https?://\\S+|www\\.\\S+', '', text)\n",
    "    text = re.sub('<.*?>+', '', text)\n",
    "    text = re.sub('[%s]' % re.escape(string.punctuation), '', text)\n",
    "    text = re.sub('\\n', '', text)\n",
    "    text = re.sub('\\w*\\d\\w*', '', text)    \n",
    "    return text\n",
    "data['news']=data['news'].fillna('').apply(text_processing)\n",
    "x=data['news']\n",
    "y=data['label']"
   ]
  },
  {
   "cell_type": "code",
   "execution_count": 9,
   "id": "04125a1f",
   "metadata": {
    "scrolled": true
   },
   "outputs": [
    {
     "data": {
      "text/plain": [
       "news     object\n",
       "label     int64\n",
       "dtype: object"
      ]
     },
     "execution_count": 9,
     "metadata": {},
     "output_type": "execute_result"
    }
   ],
   "source": [
    "data.dtypes"
   ]
  },
  {
   "cell_type": "code",
   "execution_count": 10,
   "id": "74b272ff",
   "metadata": {},
   "outputs": [],
   "source": [
    "from sklearn.model_selection import train_test_split\n",
    "from sklearn.feature_extraction.text import TfidfVectorizer\n",
    "x_train,x_test,y_train,y_test=train_test_split(x,y,test_size=0.25)\n",
    "vector=TfidfVectorizer()\n",
    "X_train=vector.fit_transform(x_train)\n",
    "X_test=vector.transform(x_test)"
   ]
  },
  {
   "cell_type": "code",
   "execution_count": 11,
   "id": "71288a01",
   "metadata": {},
   "outputs": [
    {
     "name": "stdout",
     "output_type": "stream",
     "text": [
      "Accuracy obtained by SVC is  0.9607314725697786\n",
      "classification report                precision    recall  f1-score   support\n",
      "\n",
      "           0       0.96      0.96      0.96      2550\n",
      "           1       0.96      0.96      0.96      2645\n",
      "\n",
      "    accuracy                           0.96      5195\n",
      "   macro avg       0.96      0.96      0.96      5195\n",
      "weighted avg       0.96      0.96      0.96      5195\n",
      "\n"
     ]
    }
   ],
   "source": [
    "#svc with linear kernel\n",
    "from sklearn.svm import SVC\n",
    "from sklearn.metrics import accuracy_score,classification_report\n",
    "import numpy as np\n",
    "clf=SVC(kernel='linear',C=1.0)\n",
    "clf.fit(X_train,y_train)\n",
    "pred_svc=clf.predict(X_test)\n",
    "acc=accuracy_score(y_test,pred_svc)\n",
    "clf_report=classification_report(y_test,pred_svc)\n",
    "print(\"Accuracy obtained by SVC is \",acc)\n",
    "print(\"classification report \",clf_report)\n"
   ]
  },
  {
   "cell_type": "code",
   "execution_count": 12,
   "id": "ae0335f5",
   "metadata": {},
   "outputs": [
    {
     "name": "stdout",
     "output_type": "stream",
     "text": [
      "                                                   news  bin_pred\n",
      "0     when donald j  trump said last fall that he wo...      fake\n",
      "1     elton john has cancelled all of his upcoming c...      fake\n",
      "2     assad says the  boy in the ambulance  is fake ...  not fake\n",
      "3     jackson  miss       thousands of miles away fr...      fake\n",
      "4     thanksgiving by glen ford   the core ideologic...  not fake\n",
      "...                                                 ...       ...\n",
      "5190  oakland  one of california s many sanctuary ci...      fake\n",
      "5191  yesterday  insofar as anyone can recall  was t...      fake\n",
      "5192  if you can t give something away change is nee...  not fake\n",
      "5193  seventeen colombian nationals were arrested by...      fake\n",
      "5194  report copyright violation mark of the beast  ...  not fake\n",
      "\n",
      "[5195 rows x 2 columns]\n"
     ]
    }
   ],
   "source": [
    "map_label={0:'fake',1:'not fake'}  \n",
    "pred=[map_label[p] for p in pred_svc]\n",
    "data_test=x_test.copy().reset_index()\n",
    "data_test['bin_pred']=pred\n",
    "print(data_test[['news','bin_pred']])"
   ]
  },
  {
   "cell_type": "code",
   "execution_count": null,
   "id": "cdfc8c46",
   "metadata": {},
   "outputs": [],
   "source": [
    "#svc with poly kernel\n",
    "from sklearn.svm import SVC\n",
    "from sklearn.metrics import accuracy_score,classification_report\n",
    "import numpy as np\n",
    "clf=SVC(kernel='poly',C=1.0)\n",
    "clf.fit(X_train,y_train)\n",
    "pred_svc=clf.predict(X_test)\n",
    "acc=accuracy_score(y_test,pred_svc)\n",
    "clf_report=classification_report(y_test,pred_svc)\n",
    "print(\"Accuracy obtained by SVC is \",acc)\n",
    "print(\"classification report \",clf_report)\n"
   ]
  },
  {
   "cell_type": "code",
   "execution_count": null,
   "id": "c5febe4a",
   "metadata": {},
   "outputs": [],
   "source": [
    "map_label={0:'fake',1:'not fake'}  \n",
    "pred=[map_label[p] for p in pred_svc]\n",
    "data_test=x_test.copy().reset_index()\n",
    "data_test['bin_pred']=pred\n",
    "print(data_test[['news','bin_pred']])"
   ]
  },
  {
   "cell_type": "code",
   "execution_count": null,
   "id": "760081bb",
   "metadata": {},
   "outputs": [],
   "source": [
    "#svc with rbf kernel\n",
    "from sklearn.svm import SVC\n",
    "from sklearn.metrics import accuracy_score,classification_report\n",
    "import numpy as np\n",
    "clf=SVC(kernel='rbf',C=1.0)\n",
    "clf.fit(X_train,y_train)\n",
    "pred_svc=clf.predict(X_test)\n",
    "acc=accuracy_score(y_test,pred_svc)\n",
    "clf_report=classification_report(y_test,pred_svc)\n",
    "print(\"Accuracy obtained by SVC is \",acc)\n",
    "print(\"classification report \",clf_report)\n",
    "map_label={0:'fake',1:'not fake'}  \n",
    "pred=[map_label[p] for p in pred_svc]\n",
    "data_test=x_test.copy().reset_index()\n",
    "data_test['bin_pred']=pred\n",
    "print(data_test[['news','bin_pred']])"
   ]
  },
  {
   "cell_type": "code",
   "execution_count": null,
   "id": "7c142f3f",
   "metadata": {},
   "outputs": [],
   "source": []
  },
  {
   "cell_type": "code",
   "execution_count": null,
   "id": "19c5f4dc",
   "metadata": {},
   "outputs": [],
   "source": [
    "#svc with sigmoid kernel\n",
    "from sklearn.svm import SVC\n",
    "from sklearn.metrics import accuracy_score,classification_report\n",
    "import numpy as np\n",
    "clf=SVC(kernel='sigmoid',C=1.0)\n",
    "clf.fit(X_train,y_train)\n",
    "pred_svc=clf.predict(X_test)\n",
    "acc=accuracy_score(y_test,pred_svc)\n",
    "clf_report=classification_report(y_test,pred_svc)\n",
    "print(\"Accuracy obtained by SVC is \",acc)\n",
    "print(\"classification report \",clf_report)\n",
    "map_label={0:'fake',1:'not fake'}  \n",
    "pred=[map_label[p] for p in pred_svc]\n",
    "data_test=x_test.copy().reset_index()\n",
    "data_test['bin_pred']=pred\n",
    "print(data_test[['news','bin_pred']])"
   ]
  },
  {
   "cell_type": "code",
   "execution_count": null,
   "id": "9cfd1a2b",
   "metadata": {},
   "outputs": [],
   "source": []
  }
 ],
 "metadata": {
  "kernelspec": {
   "display_name": "Python 3 (ipykernel)",
   "language": "python",
   "name": "python3"
  },
  "language_info": {
   "codemirror_mode": {
    "name": "ipython",
    "version": 3
   },
   "file_extension": ".py",
   "mimetype": "text/x-python",
   "name": "python",
   "nbconvert_exporter": "python",
   "pygments_lexer": "ipython3",
   "version": "3.11.4"
  }
 },
 "nbformat": 4,
 "nbformat_minor": 5
}
